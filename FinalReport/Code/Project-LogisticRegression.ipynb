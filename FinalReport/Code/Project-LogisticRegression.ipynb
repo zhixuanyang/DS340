{
 "cells": [
  {
   "cell_type": "code",
   "execution_count": 1,
   "metadata": {},
   "outputs": [],
   "source": [
    "import numpy as np\n",
    "import random\n",
    "import pandas as pd\n",
    "from sklearn import tree\n",
    "from sklearn.metrics import log_loss\n",
    "import matplotlib.pyplot as plt\n",
    "from sklearn.feature_extraction.text import CountVectorizer,TfidfTransformer\n",
    "from sklearn.model_selection import StratifiedKFold\n",
    "import matplotlib.pyplot as plt\n",
    "from sklearn.metrics import accuracy_score,confusion_matrix\n",
    "import graphviz\n",
    "from sklearn.metrics import confusion_matrix\n",
    "from sklearn.linear_model import SGDClassifier\n",
    "from sklearn.model_selection import train_test_split"
   ]
  },
  {
   "cell_type": "code",
   "execution_count": 2,
   "metadata": {},
   "outputs": [],
   "source": [
    "raw = pd.read_csv('train.tsv',sep = '\\t')\n",
    "sample = pd.read_csv('test.tsv',sep = '\\t')"
   ]
  },
  {
   "cell_type": "code",
   "execution_count": 3,
   "metadata": {},
   "outputs": [],
   "source": [
    "x_raw = raw['Phrase'].values\n",
    "y_raw = raw['Sentiment'].values\n",
    "x_sample = sample['Phrase'].values\n",
    "count_vect = CountVectorizer()\n",
    "x= count_vect.fit_transform(x_raw)\n",
    "x_test = count_vect.transform(x_sample)\n",
    "tf_idf = TfidfTransformer()\n",
    "x_train_tfidf = tf_idf.fit_transform(x)\n",
    "x_test_tfidf = tf_idf.transform(x_test)"
   ]
  },
  {
   "cell_type": "code",
   "execution_count": 14,
   "metadata": {},
   "outputs": [
    {
     "name": "stdout",
     "output_type": "stream",
     "text": [
      "this round is done.\n",
      "this round is done.\n",
      "this round is done.\n"
     ]
    }
   ],
   "source": [
    "def train(X, y_raw, l_rate):\n",
    "    clf = SGDClassifier(loss='log', penalty=None, learning_rate='constant', eta0=l_rate)\n",
    "    loss_list = []\n",
    "    for i in range(10000):\n",
    "        clf.partial_fit(x,y_raw,classes = np.unique(y_raw))\n",
    "        result = clf.predict_proba(x)\n",
    "        if (i%100)==0:\n",
    "            loss_list.append(log_loss(y_raw,result))\n",
    "        else:\n",
    "            pass\n",
    "    return loss_list\n",
    "\n",
    "l_rates = [1e-4,1e-3,1e-2]\n",
    "\n",
    "loss_lists = []\n",
    "for l_rate in l_rates:\n",
    "    loss_list = train(x, y_raw, l_rate)\n",
    "    loss_lists.append(loss_list) \n",
    "    print(\"this round is done.\")"
   ]
  },
  {
   "cell_type": "code",
   "execution_count": 15,
   "metadata": {},
   "outputs": [
    {
     "data": {
      "image/png": "[encoded data removed]",
      "text/plain": [
       "<Figure size 432x288 with 1 Axes>"
      ]
     },
     "metadata": {
      "needs_background": "light"
     },
     "output_type": "display_data"
    }
   ],
   "source": [
    "fig = plt.figure()\n",
    "for i in range(len(loss_lists)):\n",
    "    plt.plot(np.arange(0,10000,100), loss_lists[i], label='l_rate={}'.format(l_rates[i]))\n",
    "    plt.xlabel(\"Epochs\")\n",
    "    plt.ylabel(\"Loss\")\n",
    "    plt.legend(loc='best')"
   ]
  },
  {
   "cell_type": "code",
   "execution_count": 27,
   "metadata": {},
   "outputs": [],
   "source": [
    "clf = SGDClassifier(loss='log', penalty= None, max_iter=8000, tol=None, learning_rate='constant', eta0=1e-2)\n",
    "clf.fit(x_train_tfidf,y_raw)\n",
    "prediction = clf.predict(x_test_tfidf)"
   ]
  },
  {
   "cell_type": "code",
   "execution_count": 28,
   "metadata": {},
   "outputs": [],
   "source": [
    "submission = pd.read_csv('sampleSubmission.csv',sep = ',')"
   ]
  },
  {
   "cell_type": "code",
   "execution_count": 29,
   "metadata": {},
   "outputs": [],
   "source": [
    "submission['Sentiment'] = prediction"
   ]
  },
  {
   "cell_type": "code",
   "execution_count": 30,
   "metadata": {},
   "outputs": [],
   "source": [
    "submission.to_csv('Submission_LogisticRegression.csv',index=False)"
   ]
  },
  {
   "cell_type": "code",
   "execution_count": 21,
   "metadata": {},
   "outputs": [
    {
     "data": {
      "text/html": [
       "<div>\n",
       "<style scoped>\n",
       "    .dataframe tbody tr th:only-of-type {\n",
       "        vertical-align: middle;\n",
       "    }\n",
       "\n",
       "    .dataframe tbody tr th {\n",
       "        vertical-align: top;\n",
       "    }\n",
       "\n",
       "    .dataframe thead th {\n",
       "        text-align: right;\n",
       "    }\n",
       "</style>\n",
       "<table border=\"1\" class=\"dataframe\">\n",
       "  <thead>\n",
       "    <tr style=\"text-align: right;\">\n",
       "      <th></th>\n",
       "      <th>PhraseId</th>\n",
       "      <th>Sentiment</th>\n",
       "    </tr>\n",
       "  </thead>\n",
       "  <tbody>\n",
       "    <tr>\n",
       "      <th>0</th>\n",
       "      <td>156061</td>\n",
       "      <td>3</td>\n",
       "    </tr>\n",
       "    <tr>\n",
       "      <th>1</th>\n",
       "      <td>156062</td>\n",
       "      <td>3</td>\n",
       "    </tr>\n",
       "    <tr>\n",
       "      <th>2</th>\n",
       "      <td>156063</td>\n",
       "      <td>2</td>\n",
       "    </tr>\n",
       "    <tr>\n",
       "      <th>3</th>\n",
       "      <td>156064</td>\n",
       "      <td>2</td>\n",
       "    </tr>\n",
       "    <tr>\n",
       "      <th>4</th>\n",
       "      <td>156065</td>\n",
       "      <td>2</td>\n",
       "    </tr>\n",
       "    <tr>\n",
       "      <th>...</th>\n",
       "      <td>...</td>\n",
       "      <td>...</td>\n",
       "    </tr>\n",
       "    <tr>\n",
       "      <th>66287</th>\n",
       "      <td>222348</td>\n",
       "      <td>1</td>\n",
       "    </tr>\n",
       "    <tr>\n",
       "      <th>66288</th>\n",
       "      <td>222349</td>\n",
       "      <td>1</td>\n",
       "    </tr>\n",
       "    <tr>\n",
       "      <th>66289</th>\n",
       "      <td>222350</td>\n",
       "      <td>1</td>\n",
       "    </tr>\n",
       "    <tr>\n",
       "      <th>66290</th>\n",
       "      <td>222351</td>\n",
       "      <td>1</td>\n",
       "    </tr>\n",
       "    <tr>\n",
       "      <th>66291</th>\n",
       "      <td>222352</td>\n",
       "      <td>2</td>\n",
       "    </tr>\n",
       "  </tbody>\n",
       "</table>\n",
       "<p>66292 rows × 2 columns</p>\n",
       "</div>"
      ],
      "text/plain": [
       "       PhraseId  Sentiment\n",
       "0        156061          3\n",
       "1        156062          3\n",
       "2        156063          2\n",
       "3        156064          2\n",
       "4        156065          2\n",
       "...         ...        ...\n",
       "66287    222348          1\n",
       "66288    222349          1\n",
       "66289    222350          1\n",
       "66290    222351          1\n",
       "66291    222352          2\n",
       "\n",
       "[66292 rows x 2 columns]"
      ]
     },
     "execution_count": 21,
     "metadata": {},
     "output_type": "execute_result"
    }
   ],
   "source": [
    "submission"
   ]
  },
  {
   "cell_type": "code",
   "execution_count": 4,
   "metadata": {},
   "outputs": [],
   "source": [
    "train,test = train_test_split(raw,test_size = 0.2,random_state = 1234)"
   ]
  },
  {
   "cell_type": "code",
   "execution_count": 5,
   "metadata": {},
   "outputs": [],
   "source": [
    "x = train['Phrase'].values\n",
    "y = train['Sentiment'].values\n",
    "x_test = test['Phrase'].values\n",
    "real_y = test['Sentiment'].values\n",
    "count_vect = CountVectorizer()\n",
    "x_vector = count_vect.fit_transform(x)\n",
    "trans_x_test = count_vect.transform(x_test) \n",
    "tf_idf = TfidfTransformer()\n",
    "x_train_tfidf = tf_idf.fit_transform(x_vector)\n",
    "x_test_tfidf = tf_idf.transform(trans_x_test)"
   ]
  },
  {
   "cell_type": "code",
   "execution_count": 6,
   "metadata": {},
   "outputs": [],
   "source": [
    "clf = SGDClassifier(loss='log', penalty= None, max_iter=8000, tol=None, learning_rate='constant', eta0=1e-2)\n",
    "clf.fit(x_train_tfidf,y)\n",
    "predict = clf.predict(x_test_tfidf)"
   ]
  },
  {
   "cell_type": "code",
   "execution_count": 8,
   "metadata": {},
   "outputs": [
    {
     "data": {
      "image/png": "[encoded data removed]",
      "text/plain": [
       "<Figure size 432x288 with 2 Axes>"
      ]
     },
     "metadata": {
      "needs_background": "light"
     },
     "output_type": "display_data"
    }
   ],
   "source": [
    "cm = confusion_matrix(real_y, predict)\n",
    "labels=['0','1','2','3','4']\n",
    "fig_dtc = plt.figure()\n",
    "ax_dtc = fig_dtc.add_subplot(111)\n",
    "cax_dtc = ax_dtc.imshow(cm,cmap='OrRd')\n",
    "ax_dtc.tick_params(axis=\"x\", bottom=True, top=True, labelbottom=True, labeltop=False)\n",
    "plt.title('Confusion Matrix of the Logistic Regression Classifier')\n",
    "fig_dtc.colorbar(cax_dtc)\n",
    "ax_dtc.set_yticklabels([''] + labels)\n",
    "ax_dtc.set_xticklabels([''] + labels)\n",
    "plt.xlabel('Predicted')\n",
    "plt.ylabel('True')\n",
    "for i in range(len(cm)):\n",
    "    for j in range(len(cm[0])):\n",
    "        plt.text(j,i, str(cm[i][j]))\n",
    "plt.show()"
   ]
  },
  {
   "cell_type": "code",
   "execution_count": null,
   "metadata": {},
   "outputs": [],
   "source": []
  }
 ],
 "metadata": {
  "kernelspec": {
   "display_name": "Python 3",
   "language": "python",
   "name": "python3"
  },
  "language_info": {
   "codemirror_mode": {
    "name": "ipython",
    "version": 3
   },
   "file_extension": ".py",
   "mimetype": "text/x-python",
   "name": "python",
   "nbconvert_exporter": "python",
   "pygments_lexer": "ipython3",
   "version": "3.7.7"
  }
 },
 "nbformat": 4,
 "nbformat_minor": 4
}
